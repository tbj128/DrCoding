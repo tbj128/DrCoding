{
 "cells": [
  {
   "cell_type": "markdown",
   "metadata": {},
   "source": [
    "## DrCoding: Predicting ICD-9 codes from clinician notes"
   ]
  },
  {
   "cell_type": "markdown",
   "metadata": {},
   "source": [
    "Date: Feb 18, 2020\n",
    "\n",
    "- Added `NOTEEVENTS.csv`, `DIAGNOSES_ICD.csv`, `D_ICD_DIAGNOSES.csv` to `data` folder\n",
    "- Created script to combine `DIAGNOSES_ICD.csv`, `D_ICD_DIAGNOSES.csv` to produce a concatenated file containing the ICD-9 diagnosis for each patient\n",
    "- Start env with `conda env create --file local_env.yml` and `conda activate drcoding`\n"
   ]
  },
  {
   "cell_type": "markdown",
   "metadata": {},
   "source": [
    "Date: Feb 21, 2020\n",
    "- Continue working on script\n",
    "- Consider whether it would be better to have ICD-9 code or output the full ICD-9 description instead. Food for thought. \n",
    "\n",
    "Ran the following for testing:\n",
    "```\n",
    "python preprocess.py --icdmap=/Users/boyanjin/Documents/Stanford/CS224N/Project/DrCoding/data/D_ICD_DIAGNOSES.csv --icd=/Users/boyanjin/Documents/Stanford/CS224N/Project/DrCoding/data/DIAGNOSES_ICD.csv --notes=/Users/boyanjin/Documents/Stanford/CS224N/Project/DrCoding/data/NOTEEVENTS.csv --sample\n",
    "```\n"
   ]
  },
  {
   "cell_type": "markdown",
   "metadata": {},
   "source": [
    "Date: Feb 22, 2020\n",
    "- Useful links:\n",
    "    - https://medium.com/huggingface/multi-label-text-classification-using-bert-the-mighty-transformer-69714fa3fb3d\n",
    "    \n",
    "- Ran the following for file generation: \n",
    "    \n",
    "    \n",
    "- For the baseline, create an LSTM model loosely based off of https://machinelearningmastery.com/sequence-classification-lstm-recurrent-neural-networks-python-keras/\n",
    "    "
   ]
  },
  {
   "cell_type": "markdown",
   "metadata": {},
   "source": [
    "Date: Feb 23, 2020\n",
    "   \n",
    "- Wrote script to split the generated processed file\n",
    "- Ran the following to split:\n",
    "```\n",
    "python split.py /Users/boyanjin/Documents/Stanford/CS224N/Project/DrCoding/data/NOTEEVENTS.csv.txt /Users/boyanjin/Documents/Stanford/CS224N/Project/DrCoding/data/DIAGNOSES_ICD.csv.txt /Users/boyanjin/Documents/Stanford/CS224N/Project/DrCoding/data_split --size=1000\n",
    "```"
   ]
  },
  {
   "cell_type": "code",
   "execution_count": null,
   "metadata": {},
   "outputs": [],
   "source": []
  }
 ],
 "metadata": {
  "kernelspec": {
   "display_name": "Python 3",
   "language": "python",
   "name": "python3"
  },
  "language_info": {
   "codemirror_mode": {
    "name": "ipython",
    "version": 3
   },
   "file_extension": ".py",
   "mimetype": "text/x-python",
   "name": "python",
   "nbconvert_exporter": "python",
   "pygments_lexer": "ipython3",
   "version": "3.6.3"
  }
 },
 "nbformat": 4,
 "nbformat_minor": 2
}
